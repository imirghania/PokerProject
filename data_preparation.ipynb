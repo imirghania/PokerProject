{
 "cells": [
  {
   "cell_type": "code",
   "execution_count": 1,
   "id": "a0b0d355-dff9-4d68-8f4a-09e0c40932b4",
   "metadata": {},
   "outputs": [],
   "source": [
    "import json\n",
    "import numpy as np\n",
    "import pandas as pd\n",
    "import re\n",
    "from copy import copy\n",
    "from tqdm import tqdm\n",
    "import df_utils"
   ]
  },
  {
   "cell_type": "markdown",
   "id": "29a8e4c2-4b62-4f23-9727-919e0b322872",
   "metadata": {},
   "source": [
    "### Data Extraction"
   ]
  },
  {
   "cell_type": "markdown",
   "id": "1b72ea9e-231d-4f27-b668-cdad3293951c",
   "metadata": {},
   "source": [
    "#### Reading Json File"
   ]
  },
  {
   "cell_type": "code",
   "execution_count": 2,
   "id": "9943b91f-24d1-4926-a219-60206b25752a",
   "metadata": {},
   "outputs": [],
   "source": [
    "with open('hands.json', 'r') as file:\n",
    "    data = json.load(file)"
   ]
  },
  {
   "cell_type": "code",
   "execution_count": 3,
   "id": "31fc914e-c95d-41b1-95c8-78e4991f28d3",
   "metadata": {},
   "outputs": [
    {
     "data": {
      "text/plain": [
       "439682"
      ]
     },
     "execution_count": 3,
     "metadata": {},
     "output_type": "execute_result"
    }
   ],
   "source": [
    "len(data)"
   ]
  },
  {
   "cell_type": "markdown",
   "id": "e868f883-6a62-4edc-9b4a-63c5fa44be61",
   "metadata": {},
   "source": [
    "#### Shape of a Json object"
   ]
  },
  {
   "cell_type": "code",
   "execution_count": 4,
   "id": "bbb5bbab-253c-4c47-baea-be6191781dc4",
   "metadata": {},
   "outputs": [],
   "source": [
    "first_obj = data[0]"
   ]
  },
  {
   "cell_type": "code",
   "execution_count": 5,
   "id": "eb58428a-9742-4eb3-947d-f5c639733ad5",
   "metadata": {
    "scrolled": true
   },
   "outputs": [
    {
     "data": {
      "text/plain": [
       "{'_id': 'holdem3_199505_800160769',\n",
       " 'board': [],\n",
       " 'dealer': 1,\n",
       " 'game': 'holdem3',\n",
       " 'hand_num': 1,\n",
       " 'num_players': 2,\n",
       " 'players': {'A8': {'total_bet': 25,\n",
       "   'bankroll': 8371,\n",
       "   'bets': [{'actions': 'Bf', 'stage': 'p'},\n",
       "    {'actions': '-', 'stage': 'f'},\n",
       "    {'actions': '-', 'stage': 't'},\n",
       "    {'actions': '-', 'stage': 'r'}],\n",
       "   'pocket_cards': [],\n",
       "   'position': 1,\n",
       "   'total_win': 0},\n",
       "  'Schween': {'total_bet': 50,\n",
       "   'bankroll': 8035,\n",
       "   'bets': [{'actions': 'B', 'stage': 'p'},\n",
       "    {'actions': '-', 'stage': 'f'},\n",
       "    {'actions': '-', 'stage': 't'},\n",
       "    {'actions': '-', 'stage': 'r'}],\n",
       "   'pocket_cards': [],\n",
       "   'position': 2,\n",
       "   'total_win': 75}},\n",
       " 'pots': [{'num_players': 0, 'stage': 'f', 'size': 0},\n",
       "  {'num_players': 0, 'stage': 't', 'size': 0},\n",
       "  {'num_players': 0, 'stage': 'r', 'size': 0},\n",
       "  {'num_players': 1, 'stage': 's', 'size': 75}]}"
      ]
     },
     "execution_count": 5,
     "metadata": {},
     "output_type": "execute_result"
    }
   ],
   "source": [
    "first_obj"
   ]
  },
  {
   "cell_type": "code",
   "execution_count": 6,
   "id": "a1b56a70-3c38-4aae-ad4d-edfda442fd7f",
   "metadata": {},
   "outputs": [
    {
     "data": {
      "text/plain": [
       "'holdem3_199505_800160769'"
      ]
     },
     "execution_count": 6,
     "metadata": {},
     "output_type": "execute_result"
    }
   ],
   "source": [
    "first_obj['_id']"
   ]
  },
  {
   "cell_type": "markdown",
   "id": "60d4d4a3-39c1-4ae8-bbbe-720ced8dae19",
   "metadata": {},
   "source": [
    "#### Extractors functions"
   ]
  },
  {
   "cell_type": "code",
   "execution_count": 7,
   "id": "38c624ee-99f9-4319-b514-fd0afe971d76",
   "metadata": {},
   "outputs": [],
   "source": [
    "def extract_datetime(obj: dict):\n",
    "    _, year_month, timestamp = obj[\"_id\"].split('_')\n",
    "    return year_month[:4], year_month[4:], timestamp"
   ]
  },
  {
   "cell_type": "code",
   "execution_count": 8,
   "id": "416f9c39-89fc-407f-8203-ed231e894026",
   "metadata": {},
   "outputs": [],
   "source": [
    "def normalize_cards_list(board: list, cards_num=5, padding_element='-'):\n",
    "    normalize_board = copy(board)\n",
    "    cards_number = len(board)\n",
    "    if cards_number == cards_num:\n",
    "        return normalize_board\n",
    "    else:\n",
    "        appendex_number = cards_num - cards_number\n",
    "        appendex = [padding_element] * appendex_number\n",
    "        normalize_board.extend(appendex)\n",
    "    return normalize_board"
   ]
  },
  {
   "cell_type": "code",
   "execution_count": 9,
   "id": "49e59a61-ce5a-4a59-9842-f07c48014b6d",
   "metadata": {},
   "outputs": [],
   "source": [
    "stages = {\n",
    "    \"p\": \"preflop\",\n",
    "    \"f\": \"flop\",\n",
    "    \"t\": \"turn\",\n",
    "    \"r\": \"river\",\n",
    "    \"s\": \"showdown\"\n",
    "}"
   ]
  },
  {
   "cell_type": "code",
   "execution_count": 10,
   "id": "f740a2b9-2300-4a12-b669-e2eb85080bf4",
   "metadata": {},
   "outputs": [],
   "source": [
    "def process_bets(player_label:str, bets_list:list[dict], stages:dict):\n",
    "    bets_ = {}\n",
    "    for bet in bets_list:\n",
    "        stage_name = stages[bet['stage']]\n",
    "        bets_[f\"{player_label}_bet_{stage_name}\"] = bet['actions']\n",
    "    return bets_"
   ]
  },
  {
   "cell_type": "code",
   "execution_count": 11,
   "id": "37c07a38-d4ee-4330-accf-cdecacf3cb44",
   "metadata": {},
   "outputs": [],
   "source": [
    "def process_player(player_label: str, player_object: dict, stages:dict):\n",
    "    bets = process_bets(player_label, player_object['bets'], stages)\n",
    "    result = {\n",
    "        f\"{player_label}_total_bet\": player_object['total_bet'],\n",
    "        f\"{player_label}_bankroll\": player_object['bankroll'],\n",
    "        f\"{player_label}_total_win\": player_object['total_win']\n",
    "    }\n",
    "    \n",
    "    result.update(bets)\n",
    "    \n",
    "    return result"
   ]
  },
  {
   "cell_type": "code",
   "execution_count": 12,
   "id": "8054d5b7-f9f8-4752-8462-9c9064acf338",
   "metadata": {},
   "outputs": [],
   "source": [
    "def process_pots(pots_list:list[dict], sstages:dict):\n",
    "    result = {}\n",
    "    for pot in pots_list:\n",
    "        stage_verbose_name = stages[pot['stage']]\n",
    "        result[f\"pot_players_num_{stage_verbose_name}\"] = pot['num_players'] \n",
    "        result[f\"pot_size_{stage_verbose_name}\"] = pot['size']\n",
    "    return result"
   ]
  },
  {
   "cell_type": "code",
   "execution_count": 13,
   "id": "2842f707-3ec3-41bf-916d-d26e14fa47d3",
   "metadata": {},
   "outputs": [],
   "source": [
    "def process_pocket_cards(player_label: str, cards: list):\n",
    "    return {f\"{player_label}_pocket_card{i+1}\": card for i, card in enumerate(cards)}"
   ]
  },
  {
   "cell_type": "code",
   "execution_count": 14,
   "id": "49f77b68-314a-41d7-b43f-67401d453a98",
   "metadata": {},
   "outputs": [],
   "source": [
    "def holdem_version_extractor(game_name:str):\n",
    "    match = re.search(r\"holdem(\\d+)\", game_name)\n",
    "    game_version = int(match.group(1)) if match else 0\n",
    "    return game_version"
   ]
  },
  {
   "cell_type": "markdown",
   "id": "8aa8dab5-4bbe-4117-810d-6b9cf3cfcee9",
   "metadata": {},
   "source": [
    "#### Hands objects construction"
   ]
  },
  {
   "cell_type": "code",
   "execution_count": 15,
   "id": "6d606342-a56e-426e-a535-4366188f5e65",
   "metadata": {},
   "outputs": [],
   "source": [
    "def process_row(dict_row, stages:dict):\n",
    "    result = {\n",
    "        \"game_id\": holdem_version_extractor(dict_row[\"game\"]),\n",
    "        \"players_num\": dict_row[\"num_players\"]\n",
    "    }\n",
    "    year, month, timestamp = extract_datetime(dict_row)\n",
    "    result[\"year\"], result[\"month\"], result[\"timestamp\"] = year, month, timestamp\n",
    "    board = normalize_cards_list(dict_row['board'], cards_num=5)\n",
    "    for i, card in enumerate(board):\n",
    "        result[f\"board_card_{i+1}\"] = card\n",
    "    for player_name, player_dict in dict_row[\"players\"].items():\n",
    "        pocket_cards = player_dict[\"pocket_cards\"]\n",
    "        normalized_pocket_cards = normalize_cards_list(pocket_cards, cards_num=2)\n",
    "        player_label = f\"player{player_dict['position']}\"\n",
    "        processed_player = process_player(player_label, player_dict, stages)\n",
    "        processed_player.update(process_pocket_cards(player_label, normalized_pocket_cards))\n",
    "        result.update(processed_player)\n",
    "        result[f\"player{player_dict['position']}_name\"] = player_name\n",
    "    pots = process_pots(dict_row['pots'], stages)\n",
    "    result.update(pots)\n",
    "    return result"
   ]
  },
  {
   "cell_type": "code",
   "execution_count": 16,
   "id": "67d1b978-88d4-4559-9b6c-f75482287476",
   "metadata": {},
   "outputs": [
    {
     "name": "stderr",
     "output_type": "stream",
     "text": [
      "\n",
      "rocessing Poker hands data: 100%|█████████████████████████████████████████| 439682/439682 [00:16<00:00, 26128.71hand/s]"
     ]
    }
   ],
   "source": [
    "hands_processed_data = [process_row(row, stages) for row in tqdm(data, \n",
    "                                                           desc=\"Processing Poker hands data\",\n",
    "                                                           total=len(data),\n",
    "                                                           unit=\"hand\")]"
   ]
  },
  {
   "cell_type": "code",
   "execution_count": 23,
   "id": "95f5f726-6387-4399-af08-e298c1848727",
   "metadata": {
    "scrolled": true
   },
   "outputs": [
    {
     "data": {
      "text/plain": [
       "[{'game_id': 3,\n",
       "  'players_num': 2,\n",
       "  'year': '1995',\n",
       "  'month': '05',\n",
       "  'timestamp': '800160788',\n",
       "  'board_card_1': 'Jc',\n",
       "  'board_card_2': 'Qs',\n",
       "  'board_card_3': '6s',\n",
       "  'board_card_4': '6d',\n",
       "  'board_card_5': '-',\n",
       "  'player2_total_bet': 250,\n",
       "  'player2_bankroll': 8346,\n",
       "  'player2_total_win': 0,\n",
       "  'player2_bet_preflop': 'Br',\n",
       "  'player2_bet_flop': 'b',\n",
       "  'player2_bet_turn': 'bf',\n",
       "  'player2_bet_river': '-',\n",
       "  'player2_pocket_card1': '-',\n",
       "  'player2_pocket_card2': '-',\n",
       "  'player2_name': 'A8',\n",
       "  'player1_total_bet': 350,\n",
       "  'player1_bankroll': 8060,\n",
       "  'player1_total_win': 600,\n",
       "  'player1_bet_preflop': 'Bcc',\n",
       "  'player1_bet_flop': 'kc',\n",
       "  'player1_bet_turn': 'kr',\n",
       "  'player1_bet_river': '-',\n",
       "  'player1_pocket_card1': '-',\n",
       "  'player1_pocket_card2': '-',\n",
       "  'player1_name': 'Schween',\n",
       "  'pot_players_num_flop': 2,\n",
       "  'pot_size_flop': 200,\n",
       "  'pot_players_num_turn': 2,\n",
       "  'pot_size_turn': 300,\n",
       "  'pot_players_num_river': 0,\n",
       "  'pot_size_river': 0,\n",
       "  'pot_players_num_showdown': 1,\n",
       "  'pot_size_showdown': 600},\n",
       " {'game_id': 3,\n",
       "  'players_num': 2,\n",
       "  'year': '1995',\n",
       "  'month': '05',\n",
       "  'timestamp': '800160827',\n",
       "  'board_card_1': '9h',\n",
       "  'board_card_2': '7s',\n",
       "  'board_card_3': 'Qc',\n",
       "  'board_card_4': '-',\n",
       "  'board_card_5': '-',\n",
       "  'player1_total_bet': 150,\n",
       "  'player1_bankroll': 8096,\n",
       "  'player1_total_win': 250,\n",
       "  'player1_bet_preflop': 'Br',\n",
       "  'player1_bet_flop': 'b',\n",
       "  'player1_bet_turn': '-',\n",
       "  'player1_bet_river': '-',\n",
       "  'player1_pocket_card1': '-',\n",
       "  'player1_pocket_card2': '-',\n",
       "  'player1_name': 'A8',\n",
       "  'player2_total_bet': 100,\n",
       "  'player2_bankroll': 8310,\n",
       "  'player2_total_win': 0,\n",
       "  'player2_bet_preflop': 'Bc',\n",
       "  'player2_bet_flop': 'f',\n",
       "  'player2_bet_turn': '-',\n",
       "  'player2_bet_river': '-',\n",
       "  'player2_pocket_card1': '-',\n",
       "  'player2_pocket_card2': '-',\n",
       "  'player2_name': 'Schween',\n",
       "  'pot_players_num_flop': 2,\n",
       "  'pot_size_flop': 200,\n",
       "  'pot_players_num_turn': 0,\n",
       "  'pot_size_turn': 0,\n",
       "  'pot_players_num_river': 0,\n",
       "  'pot_size_river': 0,\n",
       "  'pot_players_num_showdown': 1,\n",
       "  'pot_size_showdown': 250}]"
      ]
     },
     "execution_count": 23,
     "metadata": {},
     "output_type": "execute_result"
    }
   ],
   "source": [
    "hands_processed_data[1:3]"
   ]
  },
  {
   "cell_type": "markdown",
   "id": "c4cdd592-76b2-4caf-9f95-4640a84ca485",
   "metadata": {},
   "source": [
    "### Dataset building"
   ]
  },
  {
   "cell_type": "code",
   "execution_count": null,
   "id": "25fa5128-b157-4bf7-8449-cf1fd484a342",
   "metadata": {},
   "outputs": [],
   "source": [
    "df = pd.DataFrame(hands_processed_data)"
   ]
  },
  {
   "cell_type": "code",
   "execution_count": 40,
   "id": "fa281dc0-cf27-4d7a-bb4f-673a8c1df83f",
   "metadata": {},
   "outputs": [
    {
     "data": {
      "text/plain": [
       "(439682, 139)"
      ]
     },
     "execution_count": 40,
     "metadata": {},
     "output_type": "execute_result"
    }
   ],
   "source": [
    "df.shape"
   ]
  },
  {
   "cell_type": "code",
   "execution_count": 41,
   "id": "435c669a-2994-4109-8386-fc43cb3b95c3",
   "metadata": {},
   "outputs": [
    {
     "name": "stdout",
     "output_type": "stream",
     "text": [
      "<class 'pandas.core.frame.DataFrame'>\n",
      "RangeIndex: 439682 entries, 0 to 439681\n",
      "Data columns (total 139 columns):\n",
      " #    Column                    Dtype  \n",
      "---   ------                    -----  \n",
      " 0    game_id                   int64  \n",
      " 1    dealer_id                 int64  \n",
      " 2    players_num               int64  \n",
      " 3    year                      object \n",
      " 4    month                     object \n",
      " 5    timestamp                 object \n",
      " 6    board_card_1              object \n",
      " 7    board_card_2              object \n",
      " 8    board_card_3              object \n",
      " 9    board_card_4              object \n",
      " 10   board_card_5              object \n",
      " 11   player1_total_bet         int64  \n",
      " 12   player1_bankroll          int64  \n",
      " 13   player1_total_win         int64  \n",
      " 14   player1_bet_preflop       object \n",
      " 15   player1_bet_flop          object \n",
      " 16   player1_bet_turn          object \n",
      " 17   player1_bet_river         object \n",
      " 18   player1_pocket_card1      object \n",
      " 19   player1_pocket_card2      object \n",
      " 20   player1_name              object \n",
      " 21   player2_total_bet         int64  \n",
      " 22   player2_bankroll          int64  \n",
      " 23   player2_total_win         int64  \n",
      " 24   player2_bet_preflop       object \n",
      " 25   player2_bet_flop          object \n",
      " 26   player2_bet_turn          object \n",
      " 27   player2_bet_river         object \n",
      " 28   player2_pocket_card1      object \n",
      " 29   player2_pocket_card2      object \n",
      " 30   player2_name              object \n",
      " 31   pot_players_num_flop      int64  \n",
      " 32   pot_size_flop             int64  \n",
      " 33   pot_players_num_turn      int64  \n",
      " 34   pot_size_turn             int64  \n",
      " 35   pot_players_num_river     int64  \n",
      " 36   pot_size_river            int64  \n",
      " 37   pot_players_num_showdown  int64  \n",
      " 38   pot_size_showdown         int64  \n",
      " 39   player3_total_bet         float64\n",
      " 40   player3_bankroll          float64\n",
      " 41   player3_total_win         float64\n",
      " 42   player3_bet_preflop       object \n",
      " 43   player3_bet_flop          object \n",
      " 44   player3_bet_turn          object \n",
      " 45   player3_bet_river         object \n",
      " 46   player3_pocket_card1      object \n",
      " 47   player3_pocket_card2      object \n",
      " 48   player3_name              object \n",
      " 49   player4_total_bet         float64\n",
      " 50   player4_bankroll          float64\n",
      " 51   player4_total_win         float64\n",
      " 52   player4_bet_preflop       object \n",
      " 53   player4_bet_flop          object \n",
      " 54   player4_bet_turn          object \n",
      " 55   player4_bet_river         object \n",
      " 56   player4_pocket_card1      object \n",
      " 57   player4_pocket_card2      object \n",
      " 58   player4_name              object \n",
      " 59   player5_total_bet         float64\n",
      " 60   player5_bankroll          float64\n",
      " 61   player5_total_win         float64\n",
      " 62   player5_bet_preflop       object \n",
      " 63   player5_bet_flop          object \n",
      " 64   player5_bet_turn          object \n",
      " 65   player5_bet_river         object \n",
      " 66   player5_pocket_card1      object \n",
      " 67   player5_pocket_card2      object \n",
      " 68   player5_name              object \n",
      " 69   player6_total_bet         float64\n",
      " 70   player6_bankroll          float64\n",
      " 71   player6_total_win         float64\n",
      " 72   player6_bet_preflop       object \n",
      " 73   player6_bet_flop          object \n",
      " 74   player6_bet_turn          object \n",
      " 75   player6_bet_river         object \n",
      " 76   player6_pocket_card1      object \n",
      " 77   player6_pocket_card2      object \n",
      " 78   player6_name              object \n",
      " 79   player7_total_bet         float64\n",
      " 80   player7_bankroll          float64\n",
      " 81   player7_total_win         float64\n",
      " 82   player7_bet_preflop       object \n",
      " 83   player7_bet_flop          object \n",
      " 84   player7_bet_turn          object \n",
      " 85   player7_bet_river         object \n",
      " 86   player7_pocket_card1      object \n",
      " 87   player7_pocket_card2      object \n",
      " 88   player7_name              object \n",
      " 89   player8_total_bet         float64\n",
      " 90   player8_bankroll          float64\n",
      " 91   player8_total_win         float64\n",
      " 92   player8_bet_preflop       object \n",
      " 93   player8_bet_flop          object \n",
      " 94   player8_bet_turn          object \n",
      " 95   player8_bet_river         object \n",
      " 96   player8_pocket_card1      object \n",
      " 97   player8_pocket_card2      object \n",
      " 98   player8_name              object \n",
      " 99   player9_total_bet         float64\n",
      " 100  player9_bankroll          float64\n",
      " 101  player9_total_win         float64\n",
      " 102  player9_bet_preflop       object \n",
      " 103  player9_bet_flop          object \n",
      " 104  player9_bet_turn          object \n",
      " 105  player9_bet_river         object \n",
      " 106  player9_pocket_card1      object \n",
      " 107  player9_pocket_card2      object \n",
      " 108  player9_name              object \n",
      " 109  player10_total_bet        float64\n",
      " 110  player10_bankroll         float64\n",
      " 111  player10_total_win        float64\n",
      " 112  player10_bet_preflop      object \n",
      " 113  player10_bet_flop         object \n",
      " 114  player10_bet_turn         object \n",
      " 115  player10_bet_river        object \n",
      " 116  player10_pocket_card1     object \n",
      " 117  player10_pocket_card2     object \n",
      " 118  player10_name             object \n",
      " 119  player11_total_bet        float64\n",
      " 120  player11_bankroll         float64\n",
      " 121  player11_total_win        float64\n",
      " 122  player11_bet_preflop      object \n",
      " 123  player11_bet_flop         object \n",
      " 124  player11_bet_turn         object \n",
      " 125  player11_bet_river        object \n",
      " 126  player11_pocket_card1     object \n",
      " 127  player11_pocket_card2     object \n",
      " 128  player11_name             object \n",
      " 129  player12_total_bet        float64\n",
      " 130  player12_bankroll         float64\n",
      " 131  player12_total_win        float64\n",
      " 132  player12_bet_preflop      object \n",
      " 133  player12_bet_flop         object \n",
      " 134  player12_bet_turn         object \n",
      " 135  player12_bet_river        object \n",
      " 136  player12_pocket_card1     object \n",
      " 137  player12_pocket_card2     object \n",
      " 138  player12_name             object \n",
      "dtypes: float64(30), int64(17), object(92)\n",
      "memory usage: 466.3+ MB\n"
     ]
    }
   ],
   "source": [
    "df.info(verbose=True)"
   ]
  },
  {
   "cell_type": "code",
   "execution_count": 42,
   "id": "0e57d7e6-d37d-40f7-89d6-ae97acf65ee1",
   "metadata": {},
   "outputs": [
    {
     "data": {
      "text/plain": [
       "Index(['game_id', 'dealer_id', 'players_num', 'year', 'month', 'timestamp',\n",
       "       'board_card_1', 'board_card_2', 'board_card_3', 'board_card_4',\n",
       "       ...\n",
       "       'player12_total_bet', 'player12_bankroll', 'player12_total_win',\n",
       "       'player12_bet_preflop', 'player12_bet_flop', 'player12_bet_turn',\n",
       "       'player12_bet_river', 'player12_pocket_card1', 'player12_pocket_card2',\n",
       "       'player12_name'],\n",
       "      dtype='object', length=139)"
      ]
     },
     "execution_count": 42,
     "metadata": {},
     "output_type": "execute_result"
    }
   ],
   "source": [
    "df.columns"
   ]
  },
  {
   "cell_type": "code",
   "execution_count": null,
   "id": "9cab012c-7bf1-4b03-bd8d-4c2bd29ca470",
   "metadata": {},
   "outputs": [],
   "source": [
    "df.to_csv(\"data/holdem3.csv\", index=False)"
   ]
  }
 ],
 "metadata": {
  "kernelspec": {
   "display_name": "poker-kernel",
   "language": "python",
   "name": "poker-kernel"
  },
  "language_info": {
   "codemirror_mode": {
    "name": "ipython",
    "version": 3
   },
   "file_extension": ".py",
   "mimetype": "text/x-python",
   "name": "python",
   "nbconvert_exporter": "python",
   "pygments_lexer": "ipython3",
   "version": "3.12.0"
  }
 },
 "nbformat": 4,
 "nbformat_minor": 5
}
